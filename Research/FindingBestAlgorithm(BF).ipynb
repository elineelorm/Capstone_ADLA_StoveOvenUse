{
  "nbformat": 4,
  "nbformat_minor": 0,
  "metadata": {
    "colab": {
      "provenance": [],
      "mount_file_id": "1rxKzOYQ3tb9nbGKuW_u84EYjTSR_zZvV",
      "authorship_tag": "ABX9TyOZJrAY1yLabLNinOm2K5nJ",
      "include_colab_link": true
    },
    "kernelspec": {
      "name": "python3",
      "display_name": "Python 3"
    },
    "language_info": {
      "name": "python"
    }
  },
  "cells": [
    {
      "cell_type": "markdown",
      "metadata": {
        "id": "view-in-github",
        "colab_type": "text"
      },
      "source": [
        "<a href=\"https://colab.research.google.com/github/elineelorm/Capstone_ADLA_StoveOvenUse/blob/research/FindingBestAlgorithm(BF).ipynb\" target=\"_parent\"><img src=\"https://colab.research.google.com/assets/colab-badge.svg\" alt=\"Open In Colab\"/></a>"
      ]
    },
    {
      "cell_type": "markdown",
      "source": [
        "**Binary Classification** <br>\n",
        "Machine learning code using Logistic Regression and Decision Trees and deciding which is best for the classification."
      ],
      "metadata": {
        "id": "4hOsCiukVJlI"
      }
    },
    {
      "cell_type": "code",
      "execution_count": 6,
      "metadata": {
        "id": "m4laiuwlVDPv"
      },
      "outputs": [],
      "source": [
        "import numpy as np\n",
        "import matplotlib.pyplot as plt \n",
        "import pandas as pd\n",
        "# from sklearn.datasets import load_breast_cancer\n",
        "\n",
        "# dataset = load_breast_cancer(as_frame=True)"
      ]
    },
    {
      "cell_type": "markdown",
      "source": [
        "Let x be the features observed, and y be the corresponding class."
      ],
      "metadata": {
        "id": "18n_tN9LWnQ0"
      }
    },
    {
      "cell_type": "code",
      "source": [
        "from google.colab import drive \n",
        "\n",
        "drive.mount('/content/drive')\n"
      ],
      "metadata": {
        "colab": {
          "base_uri": "https://localhost:8080/"
        },
        "id": "UP2P85K8vCno",
        "outputId": "93fb3ed1-d306-400f-8b52-836cd4e435c4"
      },
      "execution_count": 1,
      "outputs": [
        {
          "output_type": "stream",
          "name": "stdout",
          "text": [
            "Mounted at /content/drive\n"
          ]
        }
      ]
    },
    {
      "cell_type": "code",
      "source": [
        "path = \"/content/drive/MyDrive/Capstone/testdata.csv\"\n",
        "\n",
        "dataset = pd.read_csv(path)\n",
        "dataset = dataset[:-1]\n",
        "\n",
        "\n",
        "print(dataset)"
      ],
      "metadata": {
        "colab": {
          "base_uri": "https://localhost:8080/"
        },
        "id": "eEqR-IK6vpa9",
        "outputId": "24c396f1-4906-43b0-b482-1e4ebc8a0ea3"
      },
      "execution_count": 80,
      "outputs": [
        {
          "output_type": "stream",
          "name": "stdout",
          "text": [
            "  Label  time_elapsed_1  avg_pan_temp_1  highest_pan_temp_1  \\\n",
            "0     1               0             0.0                 0.0   \n",
            "1     1               0             0.0                 0.0   \n",
            "2     0               0             0.0                 0.0   \n",
            "3     0               0             0.0                 0.0   \n",
            "\n",
            "   lowest_pan_temp_1  avg_food_temp_1  highest_food_temp_1  \\\n",
            "0                0.0              0.0                  0.0   \n",
            "1                0.0              0.0                  0.0   \n",
            "2                0.0              0.0                  0.0   \n",
            "3                0.0              0.0                  0.0   \n",
            "\n",
            "   lowest_food_temp_1  time_elapsed_2  avg_pan_temp_2  ...  avg_food_temp_19  \\\n",
            "0                 0.0             146         0.00000  ...        301.102947   \n",
            "1                 0.0             143      1752.91205  ...        320.532983   \n",
            "2                 0.0             242         0.00000  ...        318.003229   \n",
            "3                 0.0             148         0.00000  ...        315.824050   \n",
            "\n",
            "   highest_food_temp_19  lowest_food_temp_19  time_elapsed_20  \\\n",
            "0            308.338161           288.272037             2774   \n",
            "1            341.847820           282.130170             2717   \n",
            "2            336.590441           301.962021             4598   \n",
            "3            333.723532           281.472035             2960   \n",
            "\n",
            "   avg_pan_temp_20  highest_pan_temp_20  lowest_pan_temp_20  avg_food_temp_20  \\\n",
            "0       278.809710           312.971092          155.620840        291.256097   \n",
            "1       283.719578           328.437143          252.451765        293.510615   \n",
            "2       287.530794           341.213445          120.654118        315.630858   \n",
            "3       292.778497           346.592941          273.969748        319.344073   \n",
            "\n",
            "   highest_food_temp_20  lowest_food_temp_20  \n",
            "0            306.224676           277.185219  \n",
            "1            307.395690           271.814076  \n",
            "2            332.183577           290.440706  \n",
            "3            337.995354           299.965975  \n",
            "\n",
            "[4 rows x 141 columns]\n"
          ]
        }
      ]
    },
    {
      "cell_type": "code",
      "source": [
        "dataset_list = list(dataset.columns.values)\n",
        "\n",
        "X = dataset[dataset_list[1:]]\n",
        "y = dataset[dataset_list[0]] # boiling 0 or frying 1\n",
        "\n",
        "\n",
        "print(X)\n",
        "print(y)\n"
      ],
      "metadata": {
        "id": "b8vPu_shW374",
        "colab": {
          "base_uri": "https://localhost:8080/"
        },
        "outputId": "a51ff43a-8e01-411f-ef22-da961dd23ff3"
      },
      "execution_count": 81,
      "outputs": [
        {
          "output_type": "stream",
          "name": "stdout",
          "text": [
            "   time_elapsed_1  avg_pan_temp_1  highest_pan_temp_1  lowest_pan_temp_1  \\\n",
            "0               0             0.0                 0.0                0.0   \n",
            "1               0             0.0                 0.0                0.0   \n",
            "2               0             0.0                 0.0                0.0   \n",
            "3               0             0.0                 0.0                0.0   \n",
            "\n",
            "   avg_food_temp_1  highest_food_temp_1  lowest_food_temp_1  time_elapsed_2  \\\n",
            "0              0.0                  0.0                 0.0             146   \n",
            "1              0.0                  0.0                 0.0             143   \n",
            "2              0.0                  0.0                 0.0             242   \n",
            "3              0.0                  0.0                 0.0             148   \n",
            "\n",
            "   avg_pan_temp_2  highest_pan_temp_2  ...  avg_food_temp_19  \\\n",
            "0         0.00000            0.000000  ...        301.102947   \n",
            "1      1752.91205          333.816639  ...        320.532983   \n",
            "2         0.00000            0.000000  ...        318.003229   \n",
            "3         0.00000            0.000000  ...        315.824050   \n",
            "\n",
            "   highest_food_temp_19  lowest_food_temp_19  time_elapsed_20  \\\n",
            "0            308.338161           288.272037             2774   \n",
            "1            341.847820           282.130170             2717   \n",
            "2            336.590441           301.962021             4598   \n",
            "3            333.723532           281.472035             2960   \n",
            "\n",
            "   avg_pan_temp_20  highest_pan_temp_20  lowest_pan_temp_20  avg_food_temp_20  \\\n",
            "0       278.809710           312.971092          155.620840        291.256097   \n",
            "1       283.719578           328.437143          252.451765        293.510615   \n",
            "2       287.530794           341.213445          120.654118        315.630858   \n",
            "3       292.778497           346.592941          273.969748        319.344073   \n",
            "\n",
            "   highest_food_temp_20  lowest_food_temp_20  \n",
            "0            306.224676           277.185219  \n",
            "1            307.395690           271.814076  \n",
            "2            332.183577           290.440706  \n",
            "3            337.995354           299.965975  \n",
            "\n",
            "[4 rows x 140 columns]\n",
            "0    1\n",
            "1    1\n",
            "2    0\n",
            "3    0\n",
            "Name: Label, dtype: object\n"
          ]
        }
      ]
    },
    {
      "cell_type": "markdown",
      "source": [
        "Splitting the data into training and testing sets  (80% training, 20% testing)\n"
      ],
      "metadata": {
        "id": "eq05EMjhW_9X"
      }
    },
    {
      "cell_type": "code",
      "source": [
        "from sklearn.model_selection import train_test_split \n",
        "\n",
        "X_train, X_test, y_train, y_test = train_test_split(X, y, test_size = 0.50, shuffle=True)"
      ],
      "metadata": {
        "id": "nu86JxQLXDkv"
      },
      "execution_count": 109,
      "outputs": []
    },
    {
      "cell_type": "markdown",
      "source": [
        "Normalizing the data for stablity"
      ],
      "metadata": {
        "id": "nUyAeUmQXreB"
      }
    },
    {
      "cell_type": "code",
      "source": [
        "from sklearn.preprocessing import StandardScaler \n",
        "\n",
        "ss_train = StandardScaler()\n",
        "X_train = ss_train.fit_transform(X_train)\n",
        "\n",
        "ss_train = StandardScaler()\n",
        "X_test = ss_train.fit_transform(X_test)"
      ],
      "metadata": {
        "id": "M1veYeH0XqfP"
      },
      "execution_count": 110,
      "outputs": []
    },
    {
      "cell_type": "markdown",
      "source": [
        "Initalizing the models\n"
      ],
      "metadata": {
        "id": "UKAIkcyAYYmp"
      }
    },
    {
      "cell_type": "code",
      "source": [
        "\n",
        "# Initializing the binary classifiers \n",
        "\n",
        "models = {}\n",
        "\n",
        "# Logistic Regression\n",
        "from sklearn.linear_model import LogisticRegression\n",
        "models['Logistic Regression'] = LogisticRegression()\n",
        "\n",
        "# Support Vector Machines\n",
        "from sklearn.svm import LinearSVC\n",
        "models['Support Vector Machines'] = LinearSVC()\n",
        "\n",
        "# Decision Trees\n",
        "from sklearn.tree import DecisionTreeClassifier\n",
        "models['Decision Trees'] = DecisionTreeClassifier()\n",
        "\n",
        "# Random Forest\n",
        "from sklearn.ensemble import RandomForestClassifier\n",
        "models['Random Forest'] = RandomForestClassifier()\n",
        "\n",
        "# Naive Bayes\n",
        "from sklearn.naive_bayes import GaussianNB\n",
        "models['Naive Bayes'] = GaussianNB()\n",
        "\n",
        "# K-Nearest Neighbors\n",
        "from sklearn.neighbors import KNeighborsClassifier\n",
        "models['K-Nearest Neighbor'] = KNeighborsClassifier(2)\n",
        "\n"
      ],
      "metadata": {
        "colab": {
          "base_uri": "https://localhost:8080/",
          "height": 1000
        },
        "id": "GHsniQ5cZmMz",
        "outputId": "04c12c02-c433-46ea-c986-25a4db7ba9e6"
      },
      "execution_count": 117,
      "outputs": [
        {
          "output_type": "stream",
          "name": "stdout",
          "text": [
            "Boiling\n",
            "Frying\n",
            "Logistic Regression\n",
            "True Positive(TP)  =  1\n",
            "False Positive(FP) =  0\n",
            "True Negative(TN)  =  1\n",
            "False Negative(FN) =  0\n",
            " \n",
            "Boiling\n",
            "Frying\n",
            "Support Vector Machines\n",
            "True Positive(TP)  =  1\n",
            "False Positive(FP) =  0\n",
            "True Negative(TN)  =  1\n",
            "False Negative(FN) =  0\n",
            " \n",
            "Boiling\n",
            "Frying\n",
            "Decision Trees\n",
            "True Positive(TP)  =  1\n",
            "False Positive(FP) =  0\n",
            "True Negative(TN)  =  1\n",
            "False Negative(FN) =  0\n",
            " \n",
            "Boiling\n",
            "Frying\n",
            "Random Forest\n",
            "True Positive(TP)  =  1\n",
            "False Positive(FP) =  0\n",
            "True Negative(TN)  =  1\n",
            "False Negative(FN) =  0\n",
            " \n",
            "Boiling\n",
            "Frying\n",
            "Naive Bayes\n",
            "True Positive(TP)  =  1\n",
            "False Positive(FP) =  0\n",
            "True Negative(TN)  =  1\n",
            "False Negative(FN) =  0\n",
            " \n",
            "Boiling\n",
            "Boiling\n",
            "K-Nearest Neighbor\n",
            "True Positive(TP)  =  0\n",
            "False Positive(FP) =  0\n",
            "True Negative(TN)  =  1\n",
            "False Negative(FN) =  1\n",
            " \n"
          ]
        },
        {
          "output_type": "stream",
          "name": "stderr",
          "text": [
            "/usr/local/lib/python3.8/dist-packages/sklearn/metrics/_classification.py:1318: UndefinedMetricWarning: Recall is ill-defined and being set to 0.0 due to no true samples. Use `zero_division` parameter to control this behavior.\n",
            "  _warn_prf(average, modifier, msg_start, len(result))\n"
          ]
        },
        {
          "output_type": "execute_result",
          "data": {
            "text/plain": [
              "                         Accuracy  Precision  Recall  F1 Score\n",
              "Logistic Regression           1.0        1.0     1.0       1.0\n",
              "Support Vector Machines       1.0        1.0     1.0       1.0\n",
              "Decision Trees                1.0        1.0     1.0       1.0\n",
              "Random Forest                 1.0        1.0     1.0       1.0\n",
              "Naive Bayes                   1.0        1.0     1.0       1.0\n",
              "K-Nearest Neighbor            0.5        0.0     0.0       0.0"
            ],
            "text/html": [
              "\n",
              "  <div id=\"df-cfb0ed9b-aab3-4c40-9316-33ea8ae02ce1\">\n",
              "    <div class=\"colab-df-container\">\n",
              "      <div>\n",
              "<style scoped>\n",
              "    .dataframe tbody tr th:only-of-type {\n",
              "        vertical-align: middle;\n",
              "    }\n",
              "\n",
              "    .dataframe tbody tr th {\n",
              "        vertical-align: top;\n",
              "    }\n",
              "\n",
              "    .dataframe thead th {\n",
              "        text-align: right;\n",
              "    }\n",
              "</style>\n",
              "<table border=\"1\" class=\"dataframe\">\n",
              "  <thead>\n",
              "    <tr style=\"text-align: right;\">\n",
              "      <th></th>\n",
              "      <th>Accuracy</th>\n",
              "      <th>Precision</th>\n",
              "      <th>Recall</th>\n",
              "      <th>F1 Score</th>\n",
              "    </tr>\n",
              "  </thead>\n",
              "  <tbody>\n",
              "    <tr>\n",
              "      <th>Logistic Regression</th>\n",
              "      <td>1.0</td>\n",
              "      <td>1.0</td>\n",
              "      <td>1.0</td>\n",
              "      <td>1.0</td>\n",
              "    </tr>\n",
              "    <tr>\n",
              "      <th>Support Vector Machines</th>\n",
              "      <td>1.0</td>\n",
              "      <td>1.0</td>\n",
              "      <td>1.0</td>\n",
              "      <td>1.0</td>\n",
              "    </tr>\n",
              "    <tr>\n",
              "      <th>Decision Trees</th>\n",
              "      <td>1.0</td>\n",
              "      <td>1.0</td>\n",
              "      <td>1.0</td>\n",
              "      <td>1.0</td>\n",
              "    </tr>\n",
              "    <tr>\n",
              "      <th>Random Forest</th>\n",
              "      <td>1.0</td>\n",
              "      <td>1.0</td>\n",
              "      <td>1.0</td>\n",
              "      <td>1.0</td>\n",
              "    </tr>\n",
              "    <tr>\n",
              "      <th>Naive Bayes</th>\n",
              "      <td>1.0</td>\n",
              "      <td>1.0</td>\n",
              "      <td>1.0</td>\n",
              "      <td>1.0</td>\n",
              "    </tr>\n",
              "    <tr>\n",
              "      <th>K-Nearest Neighbor</th>\n",
              "      <td>0.5</td>\n",
              "      <td>0.0</td>\n",
              "      <td>0.0</td>\n",
              "      <td>0.0</td>\n",
              "    </tr>\n",
              "  </tbody>\n",
              "</table>\n",
              "</div>\n",
              "      <button class=\"colab-df-convert\" onclick=\"convertToInteractive('df-cfb0ed9b-aab3-4c40-9316-33ea8ae02ce1')\"\n",
              "              title=\"Convert this dataframe to an interactive table.\"\n",
              "              style=\"display:none;\">\n",
              "        \n",
              "  <svg xmlns=\"http://www.w3.org/2000/svg\" height=\"24px\"viewBox=\"0 0 24 24\"\n",
              "       width=\"24px\">\n",
              "    <path d=\"M0 0h24v24H0V0z\" fill=\"none\"/>\n",
              "    <path d=\"M18.56 5.44l.94 2.06.94-2.06 2.06-.94-2.06-.94-.94-2.06-.94 2.06-2.06.94zm-11 1L8.5 8.5l.94-2.06 2.06-.94-2.06-.94L8.5 2.5l-.94 2.06-2.06.94zm10 10l.94 2.06.94-2.06 2.06-.94-2.06-.94-.94-2.06-.94 2.06-2.06.94z\"/><path d=\"M17.41 7.96l-1.37-1.37c-.4-.4-.92-.59-1.43-.59-.52 0-1.04.2-1.43.59L10.3 9.45l-7.72 7.72c-.78.78-.78 2.05 0 2.83L4 21.41c.39.39.9.59 1.41.59.51 0 1.02-.2 1.41-.59l7.78-7.78 2.81-2.81c.8-.78.8-2.07 0-2.86zM5.41 20L4 18.59l7.72-7.72 1.47 1.35L5.41 20z\"/>\n",
              "  </svg>\n",
              "      </button>\n",
              "      \n",
              "  <style>\n",
              "    .colab-df-container {\n",
              "      display:flex;\n",
              "      flex-wrap:wrap;\n",
              "      gap: 12px;\n",
              "    }\n",
              "\n",
              "    .colab-df-convert {\n",
              "      background-color: #E8F0FE;\n",
              "      border: none;\n",
              "      border-radius: 50%;\n",
              "      cursor: pointer;\n",
              "      display: none;\n",
              "      fill: #1967D2;\n",
              "      height: 32px;\n",
              "      padding: 0 0 0 0;\n",
              "      width: 32px;\n",
              "    }\n",
              "\n",
              "    .colab-df-convert:hover {\n",
              "      background-color: #E2EBFA;\n",
              "      box-shadow: 0px 1px 2px rgba(60, 64, 67, 0.3), 0px 1px 3px 1px rgba(60, 64, 67, 0.15);\n",
              "      fill: #174EA6;\n",
              "    }\n",
              "\n",
              "    [theme=dark] .colab-df-convert {\n",
              "      background-color: #3B4455;\n",
              "      fill: #D2E3FC;\n",
              "    }\n",
              "\n",
              "    [theme=dark] .colab-df-convert:hover {\n",
              "      background-color: #434B5C;\n",
              "      box-shadow: 0px 1px 3px 1px rgba(0, 0, 0, 0.15);\n",
              "      filter: drop-shadow(0px 1px 2px rgba(0, 0, 0, 0.3));\n",
              "      fill: #FFFFFF;\n",
              "    }\n",
              "  </style>\n",
              "\n",
              "      <script>\n",
              "        const buttonEl =\n",
              "          document.querySelector('#df-cfb0ed9b-aab3-4c40-9316-33ea8ae02ce1 button.colab-df-convert');\n",
              "        buttonEl.style.display =\n",
              "          google.colab.kernel.accessAllowed ? 'block' : 'none';\n",
              "\n",
              "        async function convertToInteractive(key) {\n",
              "          const element = document.querySelector('#df-cfb0ed9b-aab3-4c40-9316-33ea8ae02ce1');\n",
              "          const dataTable =\n",
              "            await google.colab.kernel.invokeFunction('convertToInteractive',\n",
              "                                                     [key], {});\n",
              "          if (!dataTable) return;\n",
              "\n",
              "          const docLinkHtml = 'Like what you see? Visit the ' +\n",
              "            '<a target=\"_blank\" href=https://colab.research.google.com/notebooks/data_table.ipynb>data table notebook</a>'\n",
              "            + ' to learn more about interactive tables.';\n",
              "          element.innerHTML = '';\n",
              "          dataTable['output_type'] = 'display_data';\n",
              "          await google.colab.output.renderOutput(dataTable, element);\n",
              "          const docLink = document.createElement('div');\n",
              "          docLink.innerHTML = docLinkHtml;\n",
              "          element.appendChild(docLink);\n",
              "        }\n",
              "      </script>\n",
              "    </div>\n",
              "  </div>\n",
              "  "
            ]
          },
          "metadata": {},
          "execution_count": 117
        }
      ]
    },
    {
      "cell_type": "markdown",
      "source": [
        "Evaluating performance "
      ],
      "metadata": {
        "id": "yPwK73Y3lcNI"
      }
    },
    {
      "cell_type": "code",
      "source": [
        "\n",
        "#evaluating performance \n",
        "from sklearn.metrics import accuracy_score, precision_score, recall_score, f1_score\n",
        "\n",
        "from sklearn.metrics import confusion_matrix\n",
        "\n",
        "# y_test = y_test.map({'pos': 1, 'neg': 0}).astype(int)\n",
        "\n",
        "accuracy, precision, recall, f1Score = {}, {}, {}, {}\n",
        "\n",
        "for key in models.keys():\n",
        "    \n",
        "    # Fit the classifier\n",
        "    models[key].fit(X_train, y_train)\n",
        "    \n",
        "    # Make predictions\n",
        "    predictions = models[key].predict(X_test)\n",
        "    \n",
        "    for i in predictions:\n",
        "      if i == '0':\n",
        "        print(\"Boiling\")\n",
        "      else:\n",
        "        print(\"Frying\")\n",
        "    \n",
        "    # Calculate metrics\n",
        "    accuracy[key] = accuracy_score(predictions, y_test)\n",
        "    precision[key] = precision_score(predictions, y_test, pos_label=\"1\")\n",
        "    recall[key] = recall_score(predictions, y_test, pos_label=\"1\")\n",
        "    f1Score[key] = f1_score(predictions, y_test, pos_label=\"1\")\n",
        "\n",
        "    cm = confusion_matrix(y_test, predictions)\n",
        "\n",
        "\n",
        "    TN, FP, FN, TP = confusion_matrix(y_test, predictions).ravel()\n",
        "\n",
        "    print(key)\n",
        "    print('True Positive(TP)  = ', TP)\n",
        "    print('False Positive(FP) = ', FP)\n",
        "    print('True Negative(TN)  = ', TN)\n",
        "    print('False Negative(FN) = ', FN)\n",
        "   \n",
        "    print(' ')\n",
        "\t\n",
        "\t\n",
        "##view tale in pandas\n",
        "import pandas as pd\n",
        "\n",
        "df_model = pd.DataFrame(index=models.keys(), columns=['Accuracy', 'Precision', 'Recall', 'F1 Score'])\n",
        "df_model['Accuracy'] = accuracy.values()\n",
        "df_model['Precision'] = precision.values()\n",
        "df_model['Recall'] = recall.values()\n",
        "df_model['F1 Score'] = f1Score.values()\n",
        "\n",
        "df_model"
      ],
      "metadata": {
        "id": "J0p0zZkqld_W"
      },
      "execution_count": null,
      "outputs": []
    }
  ]
}
