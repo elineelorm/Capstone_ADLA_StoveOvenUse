{
  "nbformat": 4,
  "nbformat_minor": 0,
  "metadata": {
    "colab": {
      "provenance": []
    },
    "kernelspec": {
      "name": "python3",
      "display_name": "Python 3"
    },
    "language_info": {
      "name": "python"
    }
  },
  "cells": [
    {
      "cell_type": "code",
      "execution_count": 12,
      "metadata": {
        "colab": {
          "base_uri": "https://localhost:8080/"
        },
        "id": "oVcYgBXpJlUl",
        "outputId": "334872fa-b5cf-481b-f415-15fb9283fc27"
      },
      "outputs": [
        {
          "output_type": "stream",
          "name": "stdout",
          "text": [
            "0      0\n",
            "1      0\n",
            "2      0\n",
            "3      0\n",
            "4      0\n",
            "      ..\n",
            "117    0\n",
            "118    0\n",
            "119    0\n",
            "120    0\n",
            "121    0\n",
            "Name: safety, Length: 122, dtype: int64\n"
          ]
        }
      ],
      "source": [
        "# Import necessary libraries\n",
        "import numpy as np\n",
        "import matplotlib.pyplot as plt \n",
        "import pandas as pd\n",
        "import pickle\n",
        "\n",
        "# Set the path for the CSV file\n",
        "path = \"/content/TestDataWithId (2).csv\"\n",
        "\n",
        "\n",
        "# Read the dataset from the CSV file and remove the last row\n",
        "dataset = pd.read_csv(path)\n",
        "dataset = dataset[:-1]\n",
        "print(dataset[list(dataset.columns.values)[4]])"
      ]
    },
    {
      "cell_type": "code",
      "source": [
        "# Split the dataset into training and testing sets (50-50 ratio) using stratified sampling based on 'safety' attribute\n",
        "from sklearn.model_selection import train_test_split \n",
        "train, test = train_test_split(dataset, test_size=0.5, random_state=1, stratify=dataset['safety'], shuffle=True)"
      ],
      "metadata": {
        "id": "htbaLmvAJ5b2"
      },
      "execution_count": 13,
      "outputs": []
    },
    {
      "cell_type": "code",
      "source": [
        "# Standardize the data using StandardScaler\n",
        "from sklearn.preprocessing import StandardScaler \n",
        "ss_train = StandardScaler()\n",
        "X_train = ss_train.fit_transform(train.iloc[:,4:])\n",
        "y_train = train.iloc[:,4]\n",
        "X_test = ss_train.transform(test.iloc[:,4:])\n",
        "y_test = test.iloc[:,4]"
      ],
      "metadata": {
        "id": "40Lce4uvKLO4"
      },
      "execution_count": 14,
      "outputs": []
    },
    {
      "cell_type": "code",
      "source": [
        "print(\"First index \\n\", X_train[0])\n",
        "print(\"Label \", y_train.iloc[0])"
      ],
      "metadata": {
        "colab": {
          "base_uri": "https://localhost:8080/"
        },
        "id": "gePB22ygKM_E",
        "outputId": "a821124f-412c-43ff-b14d-fb9f3c03e6ed"
      },
      "execution_count": 15,
      "outputs": [
        {
          "output_type": "stream",
          "name": "stdout",
          "text": [
            "First index \n",
            " [ 1.28536917  0.         -0.48840675 -0.58338941 -0.43186828 -0.50659719\n",
            " -0.51532976 -0.49780084 -0.32960566 -0.49566568 -0.58401688 -0.43347385\n",
            " -0.50771301 -0.51594138 -0.49828924 -0.32960566  0.23041984  1.09958425\n",
            " -0.64891615  1.06080933  1.41173504 -0.01643366 -0.32960566  1.42637859\n",
            "  1.00604877 -0.37863474  1.09727978  1.36390077  0.32108325 -0.32960566\n",
            "  0.54362445  0.84689181 -0.3894078   0.90876747  1.31673964  0.51868736\n",
            " -0.32960566  1.0296542   0.80838101 -0.38926128  0.54477618  0.46052177\n",
            "  0.65105814 -0.32960566  1.12175337  0.84309306 -0.40332185  0.77499435\n",
            "  0.64516914  0.87400999 -0.32960566  1.18926884  0.93379546 -0.36706755\n",
            "  1.07814861  1.26626046  0.93411894 -0.32960566  1.38903846  1.08190844\n",
            " -0.25829373  1.3399936   1.54738848  1.17166869 -0.32960566  1.35098504\n",
            "  1.20215774 -0.29424524  1.45433995  1.53095496  1.25052092 -0.32960566\n",
            "  1.39171457  1.21216356 -0.15912568  1.40052732  1.40413029  1.15237771\n",
            " -0.32960566  1.48401785  1.31691884 -0.13733226  1.439711    1.43768906\n",
            "  1.24075424 -0.32960566  1.55349517  1.40164655 -0.01233505  1.48288564\n",
            "  1.51733991  1.32116127 -0.32960566  1.5402264   1.37551841 -0.04697419\n",
            "  1.5139762   1.50854112  1.34651085 -0.32960566  1.52476206  1.43500769\n",
            " -0.0577761   1.45313945  1.4853157   1.29174761 -0.32960566  1.56297548\n",
            "  1.44596515 -0.08817908  1.42532084  1.50810047  1.27985899 -0.32960566\n",
            "  1.43242341  1.31589428 -0.08616779  1.34262854  1.36184716  1.23680573\n",
            " -0.32960566  1.43001836  1.32816649 -0.08919542  1.24071624  1.33045214\n",
            "  1.14134332 -0.32960566  1.34763196  1.26124611 -0.05721977  1.17130693\n",
            "  1.25454875  1.08710232 -0.32960566  1.38632126  1.30250088 -0.06073191\n",
            "  1.21068506  1.29566015  1.12713419]\n",
            "Label  1\n"
          ]
        }
      ]
    },
    {
      "cell_type": "code",
      "source": [
        "# Initialize several binary classifiers\n",
        "models = {}\n",
        "\n",
        "# Logistic Regression\n",
        "from sklearn.linear_model import LogisticRegression\n",
        "models['Logistic Regression'] = LogisticRegression()\n",
        "\n",
        "# Support Vector Machines\n",
        "from sklearn.svm import LinearSVC\n",
        "models['Support Vector Machines'] = LinearSVC()\n",
        "\n",
        "# Decision Trees\n",
        "from sklearn.tree import DecisionTreeClassifier\n",
        "models['Decision Trees'] = DecisionTreeClassifier()\n",
        "\n",
        "# Random Forest\n",
        "from sklearn.ensemble import RandomForestClassifier\n",
        "models['Random Forest'] = RandomForestClassifier()\n",
        "\n",
        "# Naive Bayes\n",
        "from sklearn.naive_bayes import GaussianNB\n",
        "models['Naive Bayes'] = GaussianNB()\n",
        "\n",
        "# K-Nearest Neighbors\n",
        "from sklearn.neighbors import KNeighborsClassifier\n",
        "models['K-Nearest Neighbor'] = KNeighborsClassifier(5)"
      ],
      "metadata": {
        "id": "y20cHW2fKPbu"
      },
      "execution_count": 16,
      "outputs": []
    },
    {
      "cell_type": "code",
      "source": [
        "#evaluating performance \n",
        "from sklearn.metrics import accuracy_score, precision_score, recall_score, f1_score\n",
        "from sklearn.metrics import confusion_matrix"
      ],
      "metadata": {
        "id": "OKEHmaLrKTHy"
      },
      "execution_count": 17,
      "outputs": []
    },
    {
      "cell_type": "code",
      "source": [
        "print(\"Unique labels in y_train:\", y_train.unique())"
      ],
      "metadata": {
        "colab": {
          "base_uri": "https://localhost:8080/"
        },
        "id": "f8UNQlrFKVu4",
        "outputId": "70e6486b-fe21-4a6e-bebc-65e8ff3c0108"
      },
      "execution_count": 18,
      "outputs": [
        {
          "output_type": "stream",
          "name": "stdout",
          "text": [
            "Unique labels in y_train: [1 0]\n"
          ]
        }
      ]
    },
    {
      "cell_type": "code",
      "source": [
        "accuracy, precision, recall, f1Score = {}, {}, {}, {}\n",
        "\n",
        "for key in models.keys():\n",
        "    \n",
        "    # Fit the classifier\n",
        "    models[key].fit(X_train, y_train)\n",
        "    # Make predictions\n",
        "    predictions = models[key].predict(X_test)\n",
        "        \n",
        "    # Calculate metrics\n",
        "    accuracy[key] = accuracy_score(predictions, y_test)\n",
        "    precision[key] = precision_score(predictions, y_test, pos_label=1)\n",
        "    recall[key] = recall_score(predictions, y_test, pos_label=1)\n",
        "    f1Score[key] = f1_score(predictions, y_test, pos_label=1)\n",
        "\n",
        "    cm = confusion_matrix(y_test, predictions, labels =[0,1])\n",
        "\n",
        "    TN, FP, FN, TP = confusion_matrix(y_test, predictions).ravel()\n",
        "\n",
        "    print(key)\n",
        "    print('True Positive(TP)  = ', TP)\n",
        "    print('False Positive(FP) = ', FP)\n",
        "    print('True Negative(TN)  = ', TN)\n",
        "    print('False Negative(FN) = ', FN)\n",
        "   \n",
        "    print(' ')"
      ],
      "metadata": {
        "colab": {
          "base_uri": "https://localhost:8080/"
        },
        "id": "4ka3gP8CKXfz",
        "outputId": "468b775a-50b3-4dae-a930-19452bb9fccb"
      },
      "execution_count": 19,
      "outputs": [
        {
          "output_type": "stream",
          "name": "stdout",
          "text": [
            "Logistic Regression\n",
            "True Positive(TP)  =  22\n",
            "False Positive(FP) =  0\n",
            "True Negative(TN)  =  37\n",
            "False Negative(FN) =  2\n",
            " \n",
            "Support Vector Machines\n",
            "True Positive(TP)  =  23\n",
            "False Positive(FP) =  0\n",
            "True Negative(TN)  =  37\n",
            "False Negative(FN) =  1\n",
            " \n",
            "Decision Trees\n",
            "True Positive(TP)  =  24\n",
            "False Positive(FP) =  0\n",
            "True Negative(TN)  =  37\n",
            "False Negative(FN) =  0\n",
            " \n",
            "Random Forest\n",
            "True Positive(TP)  =  22\n",
            "False Positive(FP) =  0\n",
            "True Negative(TN)  =  37\n",
            "False Negative(FN) =  2\n",
            " \n",
            "Naive Bayes\n",
            "True Positive(TP)  =  24\n",
            "False Positive(FP) =  0\n",
            "True Negative(TN)  =  37\n",
            "False Negative(FN) =  0\n",
            " \n",
            "K-Nearest Neighbor\n",
            "True Positive(TP)  =  22\n",
            "False Positive(FP) =  0\n",
            "True Negative(TN)  =  37\n",
            "False Negative(FN) =  2\n",
            " \n"
          ]
        }
      ]
    },
    {
      "cell_type": "code",
      "source": [
        "# Create a DataFrame to display the performance metrics for each classifier\n",
        "import pandas as pd\n",
        "\n",
        "df_model = pd.DataFrame(index=models.keys(), columns=['Accuracy', 'Precision', 'Recall', 'F1 Score'])\n",
        "df_model['Accuracy'] = accuracy.values()\n",
        "df_model['Precision'] = precision.values()\n",
        "df_model['Recall'] = recall.values()\n",
        "df_model['F1 Score'] = f1Score.values()\n",
        "\n",
        "df_model"
      ],
      "metadata": {
        "colab": {
          "base_uri": "https://localhost:8080/",
          "height": 238
        },
        "id": "G1enGu95KaKF",
        "outputId": "f65ff6d7-4d59-476d-9296-5cb39ba7563c"
      },
      "execution_count": 20,
      "outputs": [
        {
          "output_type": "execute_result",
          "data": {
            "text/plain": [
              "                         Accuracy  Precision  Recall  F1 Score\n",
              "Logistic Regression      0.967213   0.916667     1.0  0.956522\n",
              "Support Vector Machines  0.983607   0.958333     1.0  0.978723\n",
              "Decision Trees           1.000000   1.000000     1.0  1.000000\n",
              "Random Forest            0.967213   0.916667     1.0  0.956522\n",
              "Naive Bayes              1.000000   1.000000     1.0  1.000000\n",
              "K-Nearest Neighbor       0.967213   0.916667     1.0  0.956522"
            ],
            "text/html": [
              "\n",
              "  <div id=\"df-1bc9a023-80c5-474a-8d9c-0221274acda3\">\n",
              "    <div class=\"colab-df-container\">\n",
              "      <div>\n",
              "<style scoped>\n",
              "    .dataframe tbody tr th:only-of-type {\n",
              "        vertical-align: middle;\n",
              "    }\n",
              "\n",
              "    .dataframe tbody tr th {\n",
              "        vertical-align: top;\n",
              "    }\n",
              "\n",
              "    .dataframe thead th {\n",
              "        text-align: right;\n",
              "    }\n",
              "</style>\n",
              "<table border=\"1\" class=\"dataframe\">\n",
              "  <thead>\n",
              "    <tr style=\"text-align: right;\">\n",
              "      <th></th>\n",
              "      <th>Accuracy</th>\n",
              "      <th>Precision</th>\n",
              "      <th>Recall</th>\n",
              "      <th>F1 Score</th>\n",
              "    </tr>\n",
              "  </thead>\n",
              "  <tbody>\n",
              "    <tr>\n",
              "      <th>Logistic Regression</th>\n",
              "      <td>0.967213</td>\n",
              "      <td>0.916667</td>\n",
              "      <td>1.0</td>\n",
              "      <td>0.956522</td>\n",
              "    </tr>\n",
              "    <tr>\n",
              "      <th>Support Vector Machines</th>\n",
              "      <td>0.983607</td>\n",
              "      <td>0.958333</td>\n",
              "      <td>1.0</td>\n",
              "      <td>0.978723</td>\n",
              "    </tr>\n",
              "    <tr>\n",
              "      <th>Decision Trees</th>\n",
              "      <td>1.000000</td>\n",
              "      <td>1.000000</td>\n",
              "      <td>1.0</td>\n",
              "      <td>1.000000</td>\n",
              "    </tr>\n",
              "    <tr>\n",
              "      <th>Random Forest</th>\n",
              "      <td>0.967213</td>\n",
              "      <td>0.916667</td>\n",
              "      <td>1.0</td>\n",
              "      <td>0.956522</td>\n",
              "    </tr>\n",
              "    <tr>\n",
              "      <th>Naive Bayes</th>\n",
              "      <td>1.000000</td>\n",
              "      <td>1.000000</td>\n",
              "      <td>1.0</td>\n",
              "      <td>1.000000</td>\n",
              "    </tr>\n",
              "    <tr>\n",
              "      <th>K-Nearest Neighbor</th>\n",
              "      <td>0.967213</td>\n",
              "      <td>0.916667</td>\n",
              "      <td>1.0</td>\n",
              "      <td>0.956522</td>\n",
              "    </tr>\n",
              "  </tbody>\n",
              "</table>\n",
              "</div>\n",
              "      <button class=\"colab-df-convert\" onclick=\"convertToInteractive('df-1bc9a023-80c5-474a-8d9c-0221274acda3')\"\n",
              "              title=\"Convert this dataframe to an interactive table.\"\n",
              "              style=\"display:none;\">\n",
              "        \n",
              "  <svg xmlns=\"http://www.w3.org/2000/svg\" height=\"24px\"viewBox=\"0 0 24 24\"\n",
              "       width=\"24px\">\n",
              "    <path d=\"M0 0h24v24H0V0z\" fill=\"none\"/>\n",
              "    <path d=\"M18.56 5.44l.94 2.06.94-2.06 2.06-.94-2.06-.94-.94-2.06-.94 2.06-2.06.94zm-11 1L8.5 8.5l.94-2.06 2.06-.94-2.06-.94L8.5 2.5l-.94 2.06-2.06.94zm10 10l.94 2.06.94-2.06 2.06-.94-2.06-.94-.94-2.06-.94 2.06-2.06.94z\"/><path d=\"M17.41 7.96l-1.37-1.37c-.4-.4-.92-.59-1.43-.59-.52 0-1.04.2-1.43.59L10.3 9.45l-7.72 7.72c-.78.78-.78 2.05 0 2.83L4 21.41c.39.39.9.59 1.41.59.51 0 1.02-.2 1.41-.59l7.78-7.78 2.81-2.81c.8-.78.8-2.07 0-2.86zM5.41 20L4 18.59l7.72-7.72 1.47 1.35L5.41 20z\"/>\n",
              "  </svg>\n",
              "      </button>\n",
              "      \n",
              "  <style>\n",
              "    .colab-df-container {\n",
              "      display:flex;\n",
              "      flex-wrap:wrap;\n",
              "      gap: 12px;\n",
              "    }\n",
              "\n",
              "    .colab-df-convert {\n",
              "      background-color: #E8F0FE;\n",
              "      border: none;\n",
              "      border-radius: 50%;\n",
              "      cursor: pointer;\n",
              "      display: none;\n",
              "      fill: #1967D2;\n",
              "      height: 32px;\n",
              "      padding: 0 0 0 0;\n",
              "      width: 32px;\n",
              "    }\n",
              "\n",
              "    .colab-df-convert:hover {\n",
              "      background-color: #E2EBFA;\n",
              "      box-shadow: 0px 1px 2px rgba(60, 64, 67, 0.3), 0px 1px 3px 1px rgba(60, 64, 67, 0.15);\n",
              "      fill: #174EA6;\n",
              "    }\n",
              "\n",
              "    [theme=dark] .colab-df-convert {\n",
              "      background-color: #3B4455;\n",
              "      fill: #D2E3FC;\n",
              "    }\n",
              "\n",
              "    [theme=dark] .colab-df-convert:hover {\n",
              "      background-color: #434B5C;\n",
              "      box-shadow: 0px 1px 3px 1px rgba(0, 0, 0, 0.15);\n",
              "      filter: drop-shadow(0px 1px 2px rgba(0, 0, 0, 0.3));\n",
              "      fill: #FFFFFF;\n",
              "    }\n",
              "  </style>\n",
              "\n",
              "      <script>\n",
              "        const buttonEl =\n",
              "          document.querySelector('#df-1bc9a023-80c5-474a-8d9c-0221274acda3 button.colab-df-convert');\n",
              "        buttonEl.style.display =\n",
              "          google.colab.kernel.accessAllowed ? 'block' : 'none';\n",
              "\n",
              "        async function convertToInteractive(key) {\n",
              "          const element = document.querySelector('#df-1bc9a023-80c5-474a-8d9c-0221274acda3');\n",
              "          const dataTable =\n",
              "            await google.colab.kernel.invokeFunction('convertToInteractive',\n",
              "                                                     [key], {});\n",
              "          if (!dataTable) return;\n",
              "\n",
              "          const docLinkHtml = 'Like what you see? Visit the ' +\n",
              "            '<a target=\"_blank\" href=https://colab.research.google.com/notebooks/data_table.ipynb>data table notebook</a>'\n",
              "            + ' to learn more about interactive tables.';\n",
              "          element.innerHTML = '';\n",
              "          dataTable['output_type'] = 'display_data';\n",
              "          await google.colab.output.renderOutput(dataTable, element);\n",
              "          const docLink = document.createElement('div');\n",
              "          docLink.innerHTML = docLinkHtml;\n",
              "          element.appendChild(docLink);\n",
              "        }\n",
              "      </script>\n",
              "    </div>\n",
              "  </div>\n",
              "  "
            ]
          },
          "metadata": {},
          "execution_count": 20
        }
      ]
    },
    {
      "cell_type": "code",
      "source": [
        "import seaborn as sns\n",
        "from sklearn.metrics import confusion_matrix\n",
        "from sklearn.naive_bayes import GaussianNB\n",
        "\n",
        "from sklearn.model_selection import StratifiedKFold, cross_val_score\n",
        "\n",
        "def plot_confusion_matrix(matrix, actual_classes, predicted_classes, sorted_labels):\n",
        "    plt.figure(figsize=(12.8,6))\n",
        "    sns.set(font_scale= 3)\n",
        "    sns.heatmap(matrix, annot=True, xticklabels=sorted_labels, yticklabels=sorted_labels, cmap=\"Blues\", fmt=\"g\")\n",
        "    plt.xlabel('Predicted', fontweight = 'bold' )\n",
        "    plt.ylabel('Actual', fontweight = 'bold')\n",
        "    plt.title('Confusion Matrix for Safe and Unsafe Using Naive Bayes',  pad=20, fontsize= 25, fontweight = 'bold')\n",
        "    plt.show()\n",
        "\n",
        "# Fit the NB model\n",
        "nb = GaussianNB()\n",
        "\n",
        "# 5-fold stratified cross-validation\n",
        "cv = StratifiedKFold(n_splits=5)\n",
        "scores = cross_val_score(nb, X_train, y_train, cv=cv)\n",
        "print(\"Accuracy: %0.2f (+/- %0.2f)\" % (scores.mean(), scores.std() * 2))\n",
        "\n",
        "# Train the model on the whole training set\n",
        "nb.fit(X_train, y_train)\n",
        "\n",
        "# Make predictions on the test set\n",
        "y_pred_nb = nb.predict(X_test)\n",
        "\n",
        "# Generate the confusion matrix plot\n",
        "cm = confusion_matrix(y_test, y_pred_nb)\n",
        "sorted_labels = ['Safe', 'Unsafe']\n",
        "\n",
        "plot_confusion_matrix(cm, y_test, y_pred_nb, sorted_labels)"
      ],
      "metadata": {
        "colab": {
          "base_uri": "https://localhost:8080/",
          "height": 654
        },
        "id": "ZmkWwVDYKe3d",
        "outputId": "9618885b-f312-47ba-c7c1-eaf50fef95a3"
      },
      "execution_count": 21,
      "outputs": [
        {
          "output_type": "stream",
          "name": "stdout",
          "text": [
            "Accuracy: 1.00 (+/- 0.00)\n"
          ]
        },
        {
          "output_type": "display_data",
          "data": {
            "text/plain": [
              "<Figure size 1280x600 with 2 Axes>"
            ],
            "image/png": "[encoded data removed]"
          },
          "metadata": {}
        }
      ]
    },
    {
      "cell_type": "code",
      "source": [],
      "metadata": {
        "id": "zmRGEua-Kf-c"
      },
      "execution_count": 21,
      "outputs": []
    }
  ]
}