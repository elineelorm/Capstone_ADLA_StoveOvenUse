{
  "nbformat": 4,
  "nbformat_minor": 0,
  "metadata": {
    "colab": {
      "provenance": [],
      "authorship_tag": "ABX9TyOMzM+HAmWGfryOD8u/T4hI",
      "include_colab_link": true
    },
    "kernelspec": {
      "name": "python3",
      "display_name": "Python 3"
    },
    "language_info": {
      "name": "python"
    }
  },
  "cells": [
    {
      "cell_type": "markdown",
      "metadata": {
        "id": "view-in-github",
        "colab_type": "text"
      },
      "source": [
        "<a href=\"https://colab.research.google.com/github/elineelorm/Capstone_ADLA_StoveOvenUse/blob/eline-boil_fry/MachineLearning/Training/Boil_Fry_LR.ipynb\" target=\"_parent\"><img src=\"https://colab.research.google.com/assets/colab-badge.svg\" alt=\"Open In Colab\"/></a>"
      ]
    },
    {
      "cell_type": "markdown",
      "source": [
        "Author: Eline Nuviadenu\n"
      ],
      "metadata": {
        "id": "E4bMC-mNge0Y"
      }
    },
    {
      "cell_type": "code",
      "execution_count": null,
      "metadata": {
        "id": "eGITKie7THYY"
      },
      "outputs": [],
      "source": [
        "import numpy as np\n",
        "import matplotlib.pyplot as plt \n",
        "import pandas as pd"
      ]
    },
    {
      "cell_type": "code",
      "source": [
        "from google.colab import drive \n",
        "\n",
        "drive.mount('/content/drive')\n"
      ],
      "metadata": {
        "colab": {
          "base_uri": "https://localhost:8080/"
        },
        "id": "BtF4gUKFTSG-",
        "outputId": "383c825f-2b02-4aba-aeab-14d3bcac0730"
      },
      "execution_count": null,
      "outputs": [
        {
          "output_type": "stream",
          "name": "stdout",
          "text": [
            "Mounted at /content/drive\n"
          ]
        }
      ]
    },
    {
      "cell_type": "code",
      "source": [
        "path = \"/content/drive/MyDrive/Capstone/TestDataWithId.csv\"\n",
        "\n",
        "dataset = pd.read_csv(path)\n",
        "dataset = dataset.dropna()\n",
        "dataset = dataset.reset_index()\n",
        "\n",
        "print(dataset)\n"
      ],
      "metadata": {
        "id": "FTKJgMQbTVZ9",
        "colab": {
          "base_uri": "https://localhost:8080/"
        },
        "outputId": "41d98a7d-2de8-48d9-a3c6-4f34b373c9f9"
      },
      "execution_count": null,
      "outputs": [
        {
          "output_type": "stream",
          "name": "stdout",
          "text": [
            "    index  id  stoveId  state  type  safety  time_elapsed_1  avg_pan_temp_1  \\\n",
            "0       0   1        1      1   0.0       0               0        5.058053   \n",
            "1       1   2        1      1   1.0       0               0        6.970683   \n",
            "2       2   3        1      1   1.0       0               0        4.223977   \n",
            "3       3   4        1      1   0.0       0               0       14.654099   \n",
            "4       4   5        1      1   1.0       0               0       16.012112   \n",
            "5       5   6        1      1   0.0       0               0        4.728946   \n",
            "6       6   7        1      1   1.0       0               0        7.990005   \n",
            "7      28  29        1      1   1.0       0               0       28.145409   \n",
            "8      33  34        2      1   1.0       0               0     -118.053902   \n",
            "9      34  35        2      1   0.0       0               0        5.190693   \n",
            "10     36  37        1      1   0.0       0               0       13.413377   \n",
            "11     37  38        1      1   0.0       0               0       14.045762   \n",
            "12     42  43        1      1   1.0       0               0        1.343734   \n",
            "13     43  44        2      1   0.0       0               0       16.410808   \n",
            "14     47  48        1      1   0.0       0               0        9.399751   \n",
            "15     50  51        1      1   1.0       0               0       19.158442   \n",
            "16     53  54        1      1   0.0       0               0        7.664171   \n",
            "17     54  55        1      1   0.0       0               0       14.788773   \n",
            "18     55  56        1      1   1.0       0               0       15.256571   \n",
            "19     58  59        1      1   1.0       0               0       17.438048   \n",
            "20     59  60        1      1   0.0       0               0        7.980316   \n",
            "21     60  61        2      1   0.0       0               0        9.896408   \n",
            "22     67  68        1      1   0.0       0               0       13.844177   \n",
            "23     68  69        1      1   1.0       0               0        6.190949   \n",
            "24     69  70        2      1   1.0       0               0       13.891764   \n",
            "25     78  79        1      1   0.0       0               0        7.001204   \n",
            "26     79  80        1      1   0.0       0               0       12.335593   \n",
            "\n",
            "    highest_pan_temp_1  lowest_pan_temp_1  ...  avg_food_temp_19  \\\n",
            "0             5.058053           5.058053  ...         41.890768   \n",
            "1             6.970683           6.970683  ...         32.093759   \n",
            "2             4.223977           4.223977  ...         16.848209   \n",
            "3            14.654099          14.654099  ...         21.043289   \n",
            "4            16.012112          16.012112  ...         20.042437   \n",
            "5             4.728946           4.728946  ...         23.168720   \n",
            "6             7.990005           7.990005  ...         21.674514   \n",
            "7            28.145409          28.145409  ...         23.154241   \n",
            "8           341.885882          13.064202  ...         31.611836   \n",
            "9             5.190693           5.190693  ...          7.731358   \n",
            "10           13.413377          13.413377  ...         20.225242   \n",
            "11           14.045762          14.045762  ...         25.620715   \n",
            "12            1.343734           1.343734  ...         36.178615   \n",
            "13           16.410808          16.410808  ...          8.667849   \n",
            "14            9.399751           9.399751  ...         25.581252   \n",
            "15           19.158442          19.158442  ...         26.777064   \n",
            "16            7.664171           7.664171  ...         33.357651   \n",
            "17           14.788773          14.788773  ...         30.180475   \n",
            "18           15.256571          15.256571  ...         14.880098   \n",
            "19           17.438048          17.438048  ...         29.962733   \n",
            "20            7.980316           7.980316  ...         22.601622   \n",
            "21            9.896408           9.896408  ...          9.614310   \n",
            "22           13.844177          13.844177  ...         28.049342   \n",
            "23            6.190949           6.190949  ...         27.898205   \n",
            "24           13.891764          13.891764  ...         11.514029   \n",
            "25            7.001204           7.001204  ...         36.879131   \n",
            "26           12.335593          12.335593  ...         37.766091   \n",
            "\n",
            "    highest_food_temp_19  lowest_food_temp_19  time_elapsed_20  \\\n",
            "0              43.289742            39.882927             2964   \n",
            "1              32.093759            32.093759             3116   \n",
            "2              16.848209            16.848209             4370   \n",
            "3              21.043289            21.043289             2641   \n",
            "4              20.042437            20.042437             3781   \n",
            "5              23.168720            23.168720             2527   \n",
            "6              21.674514            21.674514             3743   \n",
            "7              23.154241            23.154241             1957   \n",
            "8             316.584882             6.339832             2204   \n",
            "9               7.731358             7.731358             4959   \n",
            "10             20.225242            20.225242             2698   \n",
            "11             25.620715            25.620715             4617   \n",
            "12             36.245582            36.111649             1824   \n",
            "13              8.667849             8.667849             5377   \n",
            "14             25.581252            25.581252             2394   \n",
            "15             26.777064            26.777064             2052   \n",
            "16             33.357651            33.357651             3971   \n",
            "17             30.180475            30.180475             3230   \n",
            "18             14.880098            14.880098             2907   \n",
            "19             29.962733            29.962733             1691   \n",
            "20             22.601622            22.601622             2356   \n",
            "21              9.614310             9.614310             6517   \n",
            "22             28.049342            28.049342             3667   \n",
            "23             27.898205            27.898205             2508   \n",
            "24             11.514029            11.514029             3496   \n",
            "25             37.951128            35.807134             3515   \n",
            "26             38.280588            36.418455             3781   \n",
            "\n",
            "    avg_pan_temp_20  highest_pan_temp_20  lowest_pan_temp_20  \\\n",
            "0         34.885446            39.289244           15.081513   \n",
            "1         28.551736            28.551736           28.551736   \n",
            "2         14.418753            14.418753           14.418753   \n",
            "3         18.809256            18.809256           18.809256   \n",
            "4         18.332604            18.332604           18.332604   \n",
            "5         24.169168            24.169168           24.169168   \n",
            "6         19.494046            19.494046           19.494046   \n",
            "7         21.039992            21.039992           21.039992   \n",
            "8       -235.188742           347.937815            5.667395   \n",
            "9          6.647785             6.647785            6.647785   \n",
            "10        18.070003            18.070003           18.070003   \n",
            "11        22.263106            22.263106           22.263106   \n",
            "12        30.485197            30.485197           30.485197   \n",
            "13         7.909443             7.909443            7.909443   \n",
            "14        22.596068            22.596068           22.596068   \n",
            "15        23.424146            23.424146           23.424146   \n",
            "16        25.101348            25.101348           25.101348   \n",
            "17        25.229366            25.229366           25.229366   \n",
            "18        13.351560            13.351560           13.351560   \n",
            "19        28.716829            28.716829           28.716829   \n",
            "20        20.235238            20.235238           20.235238   \n",
            "21         9.658774             9.658774            9.658774   \n",
            "22        26.564419            26.564419           26.564419   \n",
            "23        24.966044            24.966044           24.966044   \n",
            "24        10.258809            10.258809           10.258809   \n",
            "25        31.687343            31.687343           31.687343   \n",
            "26        31.137375            31.137375           31.137375   \n",
            "\n",
            "    avg_food_temp_20  highest_food_temp_20  lowest_food_temp_20  \n",
            "0          37.397093             38.138746            36.036844  \n",
            "1          28.551736             28.551736            28.551736  \n",
            "2          14.418753             14.418753            14.418753  \n",
            "3          18.809256             18.809256            18.809256  \n",
            "4          18.332604             18.332604            18.332604  \n",
            "5          24.169168             24.169168            24.169168  \n",
            "6          19.494046             19.494046            19.494046  \n",
            "7          21.039992             21.039992            21.039992  \n",
            "8          34.863882            316.584882             6.141510  \n",
            "9           6.647785              6.647785             6.647785  \n",
            "10         18.070003             18.070003            18.070003  \n",
            "11         22.263106             22.263106            22.263106  \n",
            "12         30.485197             30.485197            30.485197  \n",
            "13          7.909443              7.909443             7.909443  \n",
            "14         22.596068             22.596068            22.596068  \n",
            "15         23.424146             23.424146            23.424146  \n",
            "16         25.101348             25.101348            25.101348  \n",
            "17         25.229366             25.229366            25.229366  \n",
            "18         13.351560             13.351560            13.351560  \n",
            "19         28.716829             28.716829            28.716829  \n",
            "20         20.235238             20.235238            20.235238  \n",
            "21          9.658774              9.658774             9.658774  \n",
            "22         26.564419             26.564419            26.564419  \n",
            "23         24.966044             24.966044            24.966044  \n",
            "24         10.258809             10.258809            10.258809  \n",
            "25         31.687343             31.687343            31.687343  \n",
            "26         31.137375             31.137375            31.137375  \n",
            "\n",
            "[27 rows x 146 columns]\n"
          ]
        }
      ]
    },
    {
      "cell_type": "code",
      "source": [
        "dataset_list = list(dataset.columns.values)\n",
        "\n",
        "X = dataset[dataset_list[6:]]\n",
        "y = dataset[dataset_list[4]].astype(int) # boiling 0 or frying 1\n",
        "\n",
        "print(y)"
      ],
      "metadata": {
        "id": "j8HKXQ_4TZNs",
        "colab": {
          "base_uri": "https://localhost:8080/"
        },
        "outputId": "f5223500-dbaf-4639-fb08-6a3623c624e7"
      },
      "execution_count": null,
      "outputs": [
        {
          "output_type": "stream",
          "name": "stdout",
          "text": [
            "0     0\n",
            "1     1\n",
            "2     1\n",
            "3     0\n",
            "4     1\n",
            "5     0\n",
            "6     1\n",
            "7     1\n",
            "8     1\n",
            "9     0\n",
            "10    0\n",
            "11    0\n",
            "12    1\n",
            "13    0\n",
            "14    0\n",
            "15    1\n",
            "16    0\n",
            "17    0\n",
            "18    1\n",
            "19    1\n",
            "20    0\n",
            "21    0\n",
            "22    0\n",
            "23    1\n",
            "24    1\n",
            "25    0\n",
            "26    0\n",
            "Name: type, dtype: int64\n"
          ]
        }
      ]
    },
    {
      "cell_type": "code",
      "source": [
        "# 2 (confusion matrix stuff)\n",
        "from sklearn.model_selection import KFold, cross_val_score\n",
        "from sklearn.linear_model import LogisticRegression\n",
        "\n",
        "model = LogisticRegression(solver='lbfgs',max_iter=150)\n",
        "kfold = KFold(n_splits=5, shuffle=True)\n",
        "\n",
        "cv_results = cross_val_score(model, X, y, cv=kfold, scoring='accuracy', verbose=10)\n",
        "\n",
        "print(cv_results.mean(), cv_results.std())"
      ],
      "metadata": {
        "colab": {
          "base_uri": "https://localhost:8080/"
        },
        "id": "hr6n0bvgvd9k",
        "outputId": "c0682aa1-81f7-4530-d6c9-b22de93e0761"
      },
      "execution_count": null,
      "outputs": [
        {
          "output_type": "stream",
          "name": "stdout",
          "text": [
            "[CV] START .....................................................................\n",
            "[CV] END ................................ score: (test=1.000) total time=   0.0s\n",
            "[CV] START .....................................................................\n",
            "[CV] END ................................ score: (test=1.000) total time=   0.0s\n",
            "[CV] START .....................................................................\n",
            "[CV] END ................................ score: (test=1.000) total time=   0.0s\n",
            "[CV] START .....................................................................\n",
            "[CV] END ................................ score: (test=1.000) total time=   0.0s\n",
            "[CV] START .....................................................................\n",
            "[CV] END ................................ score: (test=1.000) total time=   0.0s\n",
            "1.0 0.0\n"
          ]
        },
        {
          "output_type": "stream",
          "name": "stderr",
          "text": [
            "[Parallel(n_jobs=1)]: Using backend SequentialBackend with 1 concurrent workers.\n",
            "[Parallel(n_jobs=1)]: Done   1 out of   1 | elapsed:    0.0s remaining:    0.0s\n",
            "[Parallel(n_jobs=1)]: Done   2 out of   2 | elapsed:    0.0s remaining:    0.0s\n",
            "[Parallel(n_jobs=1)]: Done   3 out of   3 | elapsed:    0.1s remaining:    0.0s\n",
            "[Parallel(n_jobs=1)]: Done   4 out of   4 | elapsed:    0.1s remaining:    0.0s\n",
            "[Parallel(n_jobs=1)]: Done   5 out of   5 | elapsed:    0.1s remaining:    0.0s\n",
            "[Parallel(n_jobs=1)]: Done   5 out of   5 | elapsed:    0.1s finished\n"
          ]
        }
      ]
    },
    {
      "cell_type": "markdown",
      "source": [
        "Now, creating the confusion matrix "
      ],
      "metadata": {
        "id": "AEcmcvnRAFbX"
      }
    },
    {
      "cell_type": "code",
      "source": [
        "import copy as cp\n",
        "\n",
        "import seaborn as sns\n",
        "from typing import Tuple \n",
        "from sklearn.metrics import confusion_matrix"
      ],
      "metadata": {
        "id": "ukaUpT-3_IP7"
      },
      "execution_count": null,
      "outputs": []
    },
    {
      "cell_type": "markdown",
      "source": [
        "Calculate Predicted and Actual class"
      ],
      "metadata": {
        "id": "kHI7TR8jAc-D"
      }
    },
    {
      "cell_type": "code",
      "source": [
        "\n",
        "def cross_val_predict(model, kfold, X, y):\n",
        "\n",
        "    model_ = cp.deepcopy(model)\n",
        "    \n",
        "    no_classes = len(np.unique(y))\n",
        "    \n",
        "    actual_classes = np.empty([0], dtype=int)\n",
        "    predicted_classes = np.empty([0], dtype=int)\n",
        "    predicted_proba = np.empty([0, no_classes]) \n",
        "\n",
        "    for train_ndx, test_ndx in kfold.split(X):\n",
        "\n",
        "        train_X, train_y, test_X, test_y = X[train_ndx], y[train_ndx], X[test_ndx], y[test_ndx]\n",
        "\n",
        "        actual_classes = np.append(actual_classes, test_y)\n",
        "\n",
        "        model_.fit(train_X, train_y)\n",
        "        predicted_classes = np.append(predicted_classes, model_.predict(test_X))\n",
        "\n",
        "        try:\n",
        "            predicted_proba = np.append(predicted_proba, model_.predict_proba(test_X), axis=0)\n",
        "        except:\n",
        "            predicted_proba = np.append(predicted_proba, np.zeros((len(test_X), no_classes), dtype=float), axis=0)\n",
        "\n",
        "    return model_, actual_classes, predicted_classes, predicted_proba"
      ],
      "metadata": {
        "id": "B4wSnRinAboH"
      },
      "execution_count": null,
      "outputs": []
    },
    {
      "cell_type": "markdown",
      "source": [
        "Visualise the matrix "
      ],
      "metadata": {
        "id": "vVy7W-yMA1eR"
      }
    },
    {
      "cell_type": "code",
      "source": [
        "def plot_confusion_matrix(actual_classes, predicted_classes, sorted_labels):\n",
        "\n",
        "    matrix = confusion_matrix(actual_classes, predicted_classes, labels=[0, 1])\n",
        "    \n",
        "    plt.figure(figsize=(12.8,6))\n",
        "    sns.set(font_scale=3)\n",
        "    sns.heatmap(matrix, annot=True, xticklabels=sorted_labels, yticklabels=sorted_labels, cmap=\"Blues\", fmt=\"g\")\n",
        "    plt.xlabel('Predicted', fontweight=\"bold\")\n",
        "    plt.ylabel('Actual', fontweight=\"bold\") \n",
        "    plt.title('Confusion Matrix for Boiling and Frying Using Logistic Regression', fontsize=25, fontweight=\"bold\", pad=20)\n",
        "    \n",
        "    plt.show()"
      ],
      "metadata": {
        "id": "T0KwNV5eA3uK"
      },
      "execution_count": null,
      "outputs": []
    },
    {
      "cell_type": "markdown",
      "source": [
        "calling the helper functions"
      ],
      "metadata": {
        "id": "-MkwcqMeBH6h"
      }
    },
    {
      "cell_type": "code",
      "source": [
        "trained_model, actual_classes, predicted_classes, _ = cross_val_predict(model, kfold, X.to_numpy(), y.to_numpy())\n",
        "plot_confusion_matrix(actual_classes, predicted_classes, [\"Boiling\", \"Frying\"])"
      ],
      "metadata": {
        "colab": {
          "base_uri": "https://localhost:8080/",
          "height": 592
        },
        "id": "jCBRCuMcBPDd",
        "outputId": "5a969adc-6a08-4957-f971-c697107b9ecc"
      },
      "execution_count": null,
      "outputs": [
        {
          "output_type": "display_data",
          "data": {
            "text/plain": [
              "<Figure size 1280x600 with 2 Axes>"
            ],
            "image/png": "[encoded data removed]"
          },
          "metadata": {}
        }
      ]
    },
    {
      "cell_type": "code",
      "source": [
        "import pickle\n",
        "\n",
        "filename = 'FryBoil_LR.sav'\n",
        "pickle.dump(trained_model, open(filename, 'wb'))"
      ],
      "metadata": {
        "id": "lZS8359g0pmy"
      },
      "execution_count": null,
      "outputs": []
    }
  ]
}